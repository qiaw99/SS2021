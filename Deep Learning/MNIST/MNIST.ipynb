{
  "nbformat": 4,
  "nbformat_minor": 0,
  "metadata": {
    "colab": {
      "name": "MNIST.ipynb",
      "provenance": [],
      "collapsed_sections": []
    },
    "kernelspec": {
      "name": "python3",
      "display_name": "Python 3"
    },
    "language_info": {
      "name": "python"
    },
    "accelerator": "GPU"
  },
  "cells": [
    {
      "cell_type": "markdown",
      "metadata": {
        "id": "hpazCfCM1YF7"
      },
      "source": [
        "#### Notice that this programm is executed on GPU. So we explicitly put data on GPU by calling ```.to(device)```"
      ]
    },
    {
      "cell_type": "code",
      "metadata": {
        "id": "5OeBqjuuQMLv"
      },
      "source": [
        "import torch\n",
        "import torch.nn as nn\n",
        "import torchvision\n",
        "import torchvision.transforms as transforms\n",
        "import torch.nn.functional as F\n",
        "import torchvision.transforms.functional as TF\n",
        "from torchvision.utils import save_image\n",
        "from sklearn.model_selection import train_test_split\n",
        "\n",
        "import os\n",
        "import numpy as np\n",
        "import matplotlib.pyplot as plt\n",
        "import matplotlib.image as mpimg \n",
        "%matplotlib inline"
      ],
      "execution_count": 1,
      "outputs": []
    },
    {
      "cell_type": "code",
      "metadata": {
        "colab": {
          "base_uri": "https://localhost:8080/",
          "height": 333
        },
        "id": "y2XnyjJCPlP0",
        "outputId": "1a87afe3-638f-4b8b-f39e-44c22a9f9176"
      },
      "source": [
        "with np.load('./prediction-challenge-01-data.npz') as fh:\n",
        "    data_x = fh['data_x']\n",
        "    data_y = fh['data_y']\n",
        "    test_x = fh['test_x']\n",
        "\n",
        "# TRAINING DATA: INPUT (x) AND OUTPUT (y)\n",
        "# 1. INDEX: IMAGE SERIAL NUMBER\n",
        "# 2. INDEX: COLOR CHANNEL\n",
        "# 3/4. INDEX: PIXEL VALUE\n",
        "print(data_x.shape, data_x.dtype)\n",
        "print(data_y.shape, data_y.dtype)\n",
        "\n",
        "# TEST DATA: INPUT (x) ONLY\n",
        "print(test_x.shape, test_x.dtype)\n",
        "\n",
        "plt.imshow(data_x[0, 0])\n",
        "plt.title(data_y[0])\n",
        "plt.show()"
      ],
      "execution_count": 2,
      "outputs": [
        {
          "output_type": "stream",
          "text": [
            "(20000, 1, 28, 28) float32\n",
            "(20000,) int64\n",
            "(2000, 1, 28, 28) float32\n"
          ],
          "name": "stdout"
        },
        {
          "output_type": "display_data",
          "data": {
            "image/png": "[encoded data removed]",
            "text/plain": [
              "<Figure size 432x288 with 1 Axes>"
            ]
          },
          "metadata": {
            "tags": [],
            "needs_background": "light"
          }
        }
      ]
    },
    {
      "cell_type": "code",
      "metadata": {
        "id": "rv1R2PB5a_ly"
      },
      "source": [
        "X_train, X_val, y_train, y_val = train_test_split(data_x, data_y, test_size=0.1)"
      ],
      "execution_count": 3,
      "outputs": []
    },
    {
      "cell_type": "code",
      "metadata": {
        "id": "1Xqag3DGQIKx"
      },
      "source": [
        "device = torch.device('cuda' if torch.cuda.is_available() else 'cpu')"
      ],
      "execution_count": 4,
      "outputs": []
    },
    {
      "cell_type": "code",
      "metadata": {
        "id": "VdS06oNDQKgK"
      },
      "source": [
        "# Define some constants\n",
        "BATCH_SIZE = 500\n",
        "LR = 0.001\n",
        "EPOCHS = 10"
      ],
      "execution_count": 5,
      "outputs": []
    },
    {
      "cell_type": "code",
      "metadata": {
        "id": "if-niiVKlbJF"
      },
      "source": [
        "# Transform np to tensor\n",
        "torch_X_train = torch.tensor(X_train)\n",
        "torch_y_train = torch.tensor(y_train)\n",
        "\n",
        "torch_X_val = torch.tensor(X_val)\n",
        "torch_y_val = torch.tensor(y_val)\n",
        "\n",
        "train = torch.utils.data.TensorDataset(torch_X_train,torch_y_train)\n",
        "validate = torch.utils.data.TensorDataset(torch_X_val,torch_y_val)\n",
        "\n",
        "train_loader = torch.utils.data.DataLoader(train, batch_size = BATCH_SIZE, shuffle = True)\n",
        "val_loader = torch.utils.data.DataLoader(validate, batch_size = BATCH_SIZE, shuffle = False)"
      ],
      "execution_count": 6,
      "outputs": []
    },
    {
      "cell_type": "code",
      "metadata": {
        "id": "3zWCzBk7QUGz"
      },
      "source": [
        "class NeuralNetwork(nn.Module):\n",
        "  def __init__(self):\n",
        "    super(NeuralNetwork, self).__init__()\n",
        "    self.fc1 = nn.Linear(28*28, 320)\n",
        "    self.relu1 = nn.ReLU()\n",
        "    self.fc2 = nn.Linear(320, 160)\n",
        "    self.relu2 = nn.ReLU()\n",
        "    self.fc3 = nn.Linear(160, 80)\n",
        "    self.relu3 = nn.ReLU()\n",
        "    self.fc4 = nn.Linear(80, 40)\n",
        "    self.relu4 = nn.ReLU()\n",
        "    self.fc5 = nn.Linear(40, 20)\n",
        "    self.relu5 = nn.ReLU()\n",
        "    self.fc6 = nn.Linear(20, 10)\n",
        "\n",
        "  def forward(self, x):\n",
        "    x = self.relu1(self.fc1(x))\n",
        "    x = self.relu2(self.fc2(x))\n",
        "    x = self.relu3(self.fc3(x))\n",
        "    x = self.relu4(self.fc4(x))\n",
        "    x = self.relu5(self.fc5(x))\n",
        "    x = self.fc6(x)\n",
        "    return F.log_softmax(x, dim=1) "
      ],
      "execution_count": 7,
      "outputs": []
    },
    {
      "cell_type": "code",
      "metadata": {
        "colab": {
          "base_uri": "https://localhost:8080/"
        },
        "id": "pMZuuo3hR5qX",
        "outputId": "a918a244-bbd0-42bc-931c-73c02e63b8cd"
      },
      "source": [
        "model = NeuralNetwork().to(device)\n",
        "print(model)"
      ],
      "execution_count": 8,
      "outputs": [
        {
          "output_type": "stream",
          "text": [
            "NeuralNetwork(\n",
            "  (fc1): Linear(in_features=784, out_features=320, bias=True)\n",
            "  (relu1): ReLU()\n",
            "  (fc2): Linear(in_features=320, out_features=160, bias=True)\n",
            "  (relu2): ReLU()\n",
            "  (fc3): Linear(in_features=160, out_features=80, bias=True)\n",
            "  (relu3): ReLU()\n",
            "  (fc4): Linear(in_features=80, out_features=40, bias=True)\n",
            "  (relu4): ReLU()\n",
            "  (fc5): Linear(in_features=40, out_features=20, bias=True)\n",
            "  (relu5): ReLU()\n",
            "  (fc6): Linear(in_features=20, out_features=10, bias=True)\n",
            ")\n"
          ],
          "name": "stdout"
        }
      ]
    },
    {
      "cell_type": "code",
      "metadata": {
        "id": "uw_FfeMaR7iH"
      },
      "source": [
        "loss_criterion = nn.CrossEntropyLoss()\n",
        "optimizer = torch.optim.Adam(model.parameters(), lr=LR)"
      ],
      "execution_count": 9,
      "outputs": []
    },
    {
      "cell_type": "code",
      "metadata": {
        "id": "5Wpnl-cyR-0a"
      },
      "source": [
        "sample_dir = 'samples'\n",
        "if not os.path.exists(sample_dir):\n",
        "  os.makedirs(sample_dir)"
      ],
      "execution_count": 10,
      "outputs": []
    },
    {
      "cell_type": "code",
      "metadata": {
        "id": "rm98TnZLSA07"
      },
      "source": [
        "def to_img(x):\n",
        "  x = (x + 1.) * 0.5\n",
        "  x = x.clamp(0, 1)\n",
        "  x = x.view(1, 28, 28)\n",
        "  return x"
      ],
      "execution_count": 11,
      "outputs": []
    },
    {
      "cell_type": "code",
      "metadata": {
        "id": "UnJ6eBRwQRv4"
      },
      "source": [
        "steps = len(train_loader)\n",
        "lossList = [] \n",
        "testLostList = []\n",
        "accuracy = [] \n",
        "label_list = []"
      ],
      "execution_count": 12,
      "outputs": []
    },
    {
      "cell_type": "code",
      "metadata": {
        "colab": {
          "base_uri": "https://localhost:8080/"
        },
        "id": "ydN9xRI_SDCP",
        "outputId": "2984b92f-d397-469f-cd8a-05fd241da8b8"
      },
      "source": [
        "for epoch in range(EPOCHS):\n",
        "  # training\n",
        "  model.train() \n",
        "  totalLoss = 0\n",
        "\n",
        "  for i, (images, labels) in enumerate(train_loader):\n",
        "    images = images.reshape(-1, 28*28).to(device) \n",
        "    labels = labels.to(device)\n",
        "    \n",
        "    outputs = model(images)\n",
        "    # predictions.append(outputs)\n",
        "    loss = loss_criterion(outputs, labels)\n",
        "    totalLoss = totalLoss + loss.item()\n",
        "    \n",
        "    # back propagation and update weights\n",
        "    optimizer.zero_grad() \n",
        "    loss.backward() \n",
        "    optimizer.step() \n",
        "    if (i+1) % 5 == 0:\n",
        "      print('Epoch [{}/{}] | Step [{}/{}] | Loss: {:.4f}'.format(epoch+1, EPOCHS, i+1, steps, totalLoss/(i+1)))\n",
        "\n",
        "  lossList.append(totalLoss/(i+1))"
      ],
      "execution_count": 13,
      "outputs": [
        {
          "output_type": "stream",
          "text": [
            "Epoch [1/10] | Step [5/36] | Loss: 2.1247\n",
            "Epoch [1/10] | Step [10/36] | Loss: 1.6619\n",
            "Epoch [1/10] | Step [15/36] | Loss: 1.3684\n",
            "Epoch [1/10] | Step [20/36] | Loss: 1.1701\n",
            "Epoch [1/10] | Step [25/36] | Loss: 1.0266\n",
            "Epoch [1/10] | Step [30/36] | Loss: 0.9183\n",
            "Epoch [1/10] | Step [35/36] | Loss: 0.8416\n",
            "Epoch [2/10] | Step [5/36] | Loss: 0.2335\n",
            "Epoch [2/10] | Step [10/36] | Loss: 0.2378\n",
            "Epoch [2/10] | Step [15/36] | Loss: 0.2431\n",
            "Epoch [2/10] | Step [20/36] | Loss: 0.2373\n",
            "Epoch [2/10] | Step [25/36] | Loss: 0.2348\n",
            "Epoch [2/10] | Step [30/36] | Loss: 0.2288\n",
            "Epoch [2/10] | Step [35/36] | Loss: 0.2224\n",
            "Epoch [3/10] | Step [5/36] | Loss: 0.1365\n",
            "Epoch [3/10] | Step [10/36] | Loss: 0.1410\n",
            "Epoch [3/10] | Step [15/36] | Loss: 0.1356\n",
            "Epoch [3/10] | Step [20/36] | Loss: 0.1366\n",
            "Epoch [3/10] | Step [25/36] | Loss: 0.1377\n",
            "Epoch [3/10] | Step [30/36] | Loss: 0.1353\n",
            "Epoch [3/10] | Step [35/36] | Loss: 0.1349\n",
            "Epoch [4/10] | Step [5/36] | Loss: 0.0968\n",
            "Epoch [4/10] | Step [10/36] | Loss: 0.0915\n",
            "Epoch [4/10] | Step [15/36] | Loss: 0.0921\n",
            "Epoch [4/10] | Step [20/36] | Loss: 0.0866\n",
            "Epoch [4/10] | Step [25/36] | Loss: 0.0860\n",
            "Epoch [4/10] | Step [30/36] | Loss: 0.0862\n",
            "Epoch [4/10] | Step [35/36] | Loss: 0.0871\n",
            "Epoch [5/10] | Step [5/36] | Loss: 0.0563\n",
            "Epoch [5/10] | Step [10/36] | Loss: 0.0607\n",
            "Epoch [5/10] | Step [15/36] | Loss: 0.0611\n",
            "Epoch [5/10] | Step [20/36] | Loss: 0.0620\n",
            "Epoch [5/10] | Step [25/36] | Loss: 0.0607\n",
            "Epoch [5/10] | Step [30/36] | Loss: 0.0602\n",
            "Epoch [5/10] | Step [35/36] | Loss: 0.0620\n",
            "Epoch [6/10] | Step [5/36] | Loss: 0.0428\n",
            "Epoch [6/10] | Step [10/36] | Loss: 0.0384\n",
            "Epoch [6/10] | Step [15/36] | Loss: 0.0431\n",
            "Epoch [6/10] | Step [20/36] | Loss: 0.0431\n",
            "Epoch [6/10] | Step [25/36] | Loss: 0.0455\n",
            "Epoch [6/10] | Step [30/36] | Loss: 0.0481\n",
            "Epoch [6/10] | Step [35/36] | Loss: 0.0501\n",
            "Epoch [7/10] | Step [5/36] | Loss: 0.0383\n",
            "Epoch [7/10] | Step [10/36] | Loss: 0.0408\n",
            "Epoch [7/10] | Step [15/36] | Loss: 0.0380\n",
            "Epoch [7/10] | Step [20/36] | Loss: 0.0361\n",
            "Epoch [7/10] | Step [25/36] | Loss: 0.0350\n",
            "Epoch [7/10] | Step [30/36] | Loss: 0.0352\n",
            "Epoch [7/10] | Step [35/36] | Loss: 0.0347\n",
            "Epoch [8/10] | Step [5/36] | Loss: 0.0211\n",
            "Epoch [8/10] | Step [10/36] | Loss: 0.0225\n",
            "Epoch [8/10] | Step [15/36] | Loss: 0.0197\n",
            "Epoch [8/10] | Step [20/36] | Loss: 0.0194\n",
            "Epoch [8/10] | Step [25/36] | Loss: 0.0196\n",
            "Epoch [8/10] | Step [30/36] | Loss: 0.0199\n",
            "Epoch [8/10] | Step [35/36] | Loss: 0.0201\n",
            "Epoch [9/10] | Step [5/36] | Loss: 0.0143\n",
            "Epoch [9/10] | Step [10/36] | Loss: 0.0150\n",
            "Epoch [9/10] | Step [15/36] | Loss: 0.0154\n",
            "Epoch [9/10] | Step [20/36] | Loss: 0.0161\n",
            "Epoch [9/10] | Step [25/36] | Loss: 0.0154\n",
            "Epoch [9/10] | Step [30/36] | Loss: 0.0157\n",
            "Epoch [9/10] | Step [35/36] | Loss: 0.0162\n",
            "Epoch [10/10] | Step [5/36] | Loss: 0.0110\n",
            "Epoch [10/10] | Step [10/36] | Loss: 0.0146\n",
            "Epoch [10/10] | Step [15/36] | Loss: 0.0146\n",
            "Epoch [10/10] | Step [20/36] | Loss: 0.0136\n",
            "Epoch [10/10] | Step [25/36] | Loss: 0.0129\n",
            "Epoch [10/10] | Step [30/36] | Loss: 0.0138\n",
            "Epoch [10/10] | Step [35/36] | Loss: 0.0131\n"
          ],
          "name": "stdout"
        }
      ]
    },
    {
      "cell_type": "code",
      "metadata": {
        "colab": {
          "base_uri": "https://localhost:8080/"
        },
        "id": "KPvs4zq9gNKT",
        "outputId": "f51a3c78-250c-423e-b45a-35122150bc1e"
      },
      "source": [
        "# testing\n",
        "test_loss = 0\n",
        "correct = 0\n",
        "total = 0\n",
        "with torch.no_grad():\n",
        "  for i, (data, target) in enumerate(val_loader):\n",
        "    data, target = data.reshape(-1, 28*28).to(device), target.to(device)\n",
        "    output = model(data)\n",
        "    total += output.size(0)\n",
        "\n",
        "    # sum up batch loss\n",
        "    test_loss += F.nll_loss(output, target, reduction='sum').item()\n",
        "\n",
        "    # get the index of the max log-probability\n",
        "    pred = output.argmax(dim=1, keepdim=True)  \n",
        "    correct += pred.eq(target.view_as(pred)).sum().item()\n",
        "\n",
        "    # Store wrongly predicted images\n",
        "    wrong_idx = (pred != target.view_as(pred)).nonzero()[:, 0]\n",
        "    wrong_samples = data[wrong_idx]\n",
        "    wrong_preds = pred[wrong_idx]\n",
        "    actual_preds = target.view_as(pred)[wrong_idx]\n",
        "\n",
        "    for i in range(len(wrong_idx.data)):\n",
        "      sample = wrong_samples[i]\n",
        "      wrong_pred = wrong_preds[i]\n",
        "      actual_pred = actual_preds[i]\n",
        "      pic = to_img(sample.cpu().data)\n",
        "      save_image(pic, os.path.join(sample_dir, 'sampled-{}.png'.format(i+1)))\n",
        "\n",
        "  print('Validation accuracy: {}%'.format(correct/total*100))"
      ],
      "execution_count": 14,
      "outputs": [
        {
          "output_type": "stream",
          "text": [
            "Validation accuracy: 95.3%\n"
          ],
          "name": "stdout"
        }
      ]
    },
    {
      "cell_type": "code",
      "metadata": {
        "colab": {
          "base_uri": "https://localhost:8080/",
          "height": 455
        },
        "id": "foV5AvUGT-sR",
        "outputId": "c688af22-2961-41e3-d128-a87ab6dba7db"
      },
      "source": [
        "fig = plt.figure(figsize=(20, 10))\n",
        "plt.plot(range(len(lossList)), lossList, color='red')\n",
        "plt.title(\"Loss during training\")\n",
        "plt.show()"
      ],
      "execution_count": 15,
      "outputs": [
        {
          "output_type": "display_data",
          "data": {
            "image/png": "[encoded data removed]",
            "text/plain": [
              "<Figure size 1440x720 with 1 Axes>"
            ]
          },
          "metadata": {
            "tags": [],
            "needs_background": "light"
          }
        }
      ]
    },
    {
      "cell_type": "code",
      "metadata": {
        "id": "TX2Nd0sEUBed"
      },
      "source": [
        "def show_image(reconsPath):\n",
        "  Image = mpimg.imread(reconsPath)\n",
        "  plt.imshow(Image) \n",
        "  plt.axis('off') \n",
        "  plt.show()"
      ],
      "execution_count": 16,
      "outputs": []
    },
    {
      "cell_type": "markdown",
      "metadata": {
        "id": "4JCQbxUz2TM1"
      },
      "source": [
        "#### Incorrectly predicted images"
      ]
    },
    {
      "cell_type": "code",
      "metadata": {
        "colab": {
          "base_uri": "https://localhost:8080/",
          "height": 1000
        },
        "id": "6BWTXrT6UDXs",
        "outputId": "167892c8-b820-4a5a-97ad-4924237fedb9"
      },
      "source": [
        "path = \"./samples\"\n",
        "fileNumber = len([lists for lists in os.listdir(path) if os.path.isfile(os.path.join(path, lists))])\n",
        "\n",
        "for i in range(1, fileNumber + 1):\n",
        "  show_image(\"./samples/sampled-{}.png\".format(i))"
      ],
      "execution_count": 17,
      "outputs": [
        {
          "output_type": "display_data",
          "data": {
            "image/png": "[encoded data removed]",
            "text/plain": [
              "<Figure size 432x288 with 1 Axes>"
            ]
          },
          "metadata": {
            "tags": [],
            "needs_background": "light"
          }
        },
        {
          "output_type": "display_data",
          "data": {
            "image/png": "[encoded data removed]",
            "text/plain": [
              "<Figure size 432x288 with 1 Axes>"
            ]
          },
          "metadata": {
            "tags": [],
            "needs_background": "light"
          }
        },
        {
          "output_type": "display_data",
          "data": {
            "image/png": "[encoded data removed]",
            "text/plain": [
              "<Figure size 432x288 with 1 Axes>"
            ]
          },
          "metadata": {
            "tags": [],
            "needs_background": "light"
          }
        },
        {
          "output_type": "display_data",
          "data": {
            "image/png": "[encoded data removed]",
            "text/plain": [
              "<Figure size 432x288 with 1 Axes>"
            ]
          },
          "metadata": {
            "tags": [],
            "needs_background": "light"
          }
        },
        {
          "output_type": "display_data",
          "data": {
            "image/png": "[encoded data removed]",
            "text/plain": [
              "<Figure size 432x288 with 1 Axes>"
            ]
          },
          "metadata": {
            "tags": [],
            "needs_background": "light"
          }
        },
        {
          "output_type": "display_data",
          "data": {
            "image/png": "[encoded data removed]",
            "text/plain": [
              "<Figure size 432x288 with 1 Axes>"
            ]
          },
          "metadata": {
            "tags": [],
            "needs_background": "light"
          }
        },
        {
          "output_type": "display_data",
          "data": {
            "image/png": "[encoded data removed]",
            "text/plain": [
              "<Figure size 432x288 with 1 Axes>"
            ]
          },
          "metadata": {
            "tags": [],
            "needs_background": "light"
          }
        },
        {
          "output_type": "display_data",
          "data": {
            "image/png": "[encoded data removed]",
            "text/plain": [
              "<Figure size 432x288 with 1 Axes>"
            ]
          },
          "metadata": {
            "tags": [],
            "needs_background": "light"
          }
        },
        {
          "output_type": "display_data",
          "data": {
            "image/png": "[encoded data removed]",
            "text/plain": [
              "<Figure size 432x288 with 1 Axes>"
            ]
          },
          "metadata": {
            "tags": [],
            "needs_background": "light"
          }
        },
        {
          "output_type": "display_data",
          "data": {
            "image/png": "[encoded data removed]",
            "text/plain": [
              "<Figure size 432x288 with 1 Axes>"
            ]
          },
          "metadata": {
            "tags": [],
            "needs_background": "light"
          }
        },
        {
          "output_type": "display_data",
          "data": {
            "image/png": "[encoded data removed]",
            "text/plain": [
              "<Figure size 432x288 with 1 Axes>"
            ]
          },
          "metadata": {
            "tags": [],
            "needs_background": "light"
          }
        },
        {
          "output_type": "display_data",
          "data": {
            "image/png": "[encoded data removed]",
            "text/plain": [
              "<Figure size 432x288 with 1 Axes>"
            ]
          },
          "metadata": {
            "tags": [],
            "needs_background": "light"
          }
        },
        {
          "output_type": "display_data",
          "data": {
            "image/png": "[encoded data removed]",
            "text/plain": [
              "<Figure size 432x288 with 1 Axes>"
            ]
          },
          "metadata": {
            "tags": [],
            "needs_background": "light"
          }
        },
        {
          "output_type": "display_data",
          "data": {
            "image/png": "[encoded data removed]",
            "text/plain": [
              "<Figure size 432x288 with 1 Axes>"
            ]
          },
          "metadata": {
            "tags": [],
            "needs_background": "light"
          }
        },
        {
          "output_type": "display_data",
          "data": {
            "image/png": "[encoded data removed]",
            "text/plain": [
              "<Figure size 432x288 with 1 Axes>"
            ]
          },
          "metadata": {
            "tags": [],
            "needs_background": "light"
          }
        },
        {
          "output_type": "display_data",
          "data": {
            "image/png": "[encoded data removed]",
            "text/plain": [
              "<Figure size 432x288 with 1 Axes>"
            ]
          },
          "metadata": {
            "tags": [],
            "needs_background": "light"
          }
        },
        {
          "output_type": "display_data",
          "data": {
            "image/png": "[encoded data removed]",
            "text/plain": [
              "<Figure size 432x288 with 1 Axes>"
            ]
          },
          "metadata": {
            "tags": [],
            "needs_background": "light"
          }
        },
        {
          "output_type": "display_data",
          "data": {
            "image/png": "[encoded data removed]",
            "text/plain": [
              "<Figure size 432x288 with 1 Axes>"
            ]
          },
          "metadata": {
            "tags": [],
            "needs_background": "light"
          }
        },
        {
          "output_type": "display_data",
          "data": {
            "image/png": "[encoded data removed]",
            "text/plain": [
              "<Figure size 432x288 with 1 Axes>"
            ]
          },
          "metadata": {
            "tags": [],
            "needs_background": "light"
          }
        },
        {
          "output_type": "display_data",
          "data": {
            "image/png": "[encoded data removed]",
            "text/plain": [
              "<Figure size 432x288 with 1 Axes>"
            ]
          },
          "metadata": {
            "tags": [],
            "needs_background": "light"
          }
        },
        {
          "output_type": "display_data",
          "data": {
            "image/png": "[encoded data removed]",
            "text/plain": [
              "<Figure size 432x288 with 1 Axes>"
            ]
          },
          "metadata": {
            "tags": [],
            "needs_background": "light"
          }
        },
        {
          "output_type": "display_data",
          "data": {
            "image/png": "[encoded data removed]",
            "text/plain": [
              "<Figure size 432x288 with 1 Axes>"
            ]
          },
          "metadata": {
            "tags": [],
            "needs_background": "light"
          }
        },
        {
          "output_type": "display_data",
          "data": {
            "image/png": "[encoded data removed]",
            "text/plain": [
              "<Figure size 432x288 with 1 Axes>"
            ]
          },
          "metadata": {
            "tags": [],
            "needs_background": "light"
          }
        },
        {
          "output_type": "display_data",
          "data": {
            "image/png": "[encoded data removed]",
            "text/plain": [
              "<Figure size 432x288 with 1 Axes>"
            ]
          },
          "metadata": {
            "tags": [],
            "needs_background": "light"
          }
        },
        {
          "output_type": "display_data",
          "data": {
            "image/png": "[encoded data removed]",
            "text/plain": [
              "<Figure size 432x288 with 1 Axes>"
            ]
          },
          "metadata": {
            "tags": [],
            "needs_background": "light"
          }
        },
        {
          "output_type": "display_data",
          "data": {
            "image/png": "[encoded data removed]",
            "text/plain": [
              "<Figure size 432x288 with 1 Axes>"
            ]
          },
          "metadata": {
            "tags": [],
            "needs_background": "light"
          }
        },
        {
          "output_type": "display_data",
          "data": {
            "image/png": "[encoded data removed]",
            "text/plain": [
              "<Figure size 432x288 with 1 Axes>"
            ]
          },
          "metadata": {
            "tags": [],
            "needs_background": "light"
          }
        },
        {
          "output_type": "display_data",
          "data": {
            "image/png": "[encoded data removed]",
            "text/plain": [
              "<Figure size 432x288 with 1 Axes>"
            ]
          },
          "metadata": {
            "tags": [],
            "needs_background": "light"
          }
        },
        {
          "output_type": "display_data",
          "data": {
            "image/png": "[encoded data removed]",
            "text/plain": [
              "<Figure size 432x288 with 1 Axes>"
            ]
          },
          "metadata": {
            "tags": [],
            "needs_background": "light"
          }
        },
        {
          "output_type": "display_data",
          "data": {
            "image/png": "[encoded data removed]",
            "text/plain": [
              "<Figure size 432x288 with 1 Axes>"
            ]
          },
          "metadata": {
            "tags": [],
            "needs_background": "light"
          }
        },
        {
          "output_type": "display_data",
          "data": {
            "image/png": "[encoded data removed]",
            "text/plain": [
              "<Figure size 432x288 with 1 Axes>"
            ]
          },
          "metadata": {
            "tags": [],
            "needs_background": "light"
          }
        },
        {
          "output_type": "display_data",
          "data": {
            "image/png": "[encoded data removed]",
            "text/plain": [
              "<Figure size 432x288 with 1 Axes>"
            ]
          },
          "metadata": {
            "tags": [],
            "needs_background": "light"
          }
        }
      ]
    },
    {
      "cell_type": "code",
      "metadata": {
        "id": "yl4md9w9qxIN"
      },
      "source": [
        "prediction = model((torch.from_numpy(test_x)).to(device).view(-1,784)).cpu().detach().numpy().argmax(axis=1)"
      ],
      "execution_count": 18,
      "outputs": []
    },
    {
      "cell_type": "code",
      "metadata": {
        "colab": {
          "base_uri": "https://localhost:8080/"
        },
        "id": "5BOewTK5sxmu",
        "outputId": "bf309166-fa03-4084-dedb-0e9433115681"
      },
      "source": [
        "print(prediction)"
      ],
      "execution_count": 19,
      "outputs": [
        {
          "output_type": "stream",
          "text": [
            "[9 7 3 ... 4 4 0]\n"
          ],
          "name": "stdout"
        }
      ]
    },
    {
      "cell_type": "code",
      "metadata": {
        "id": "2JKFoWcpQCNY"
      },
      "source": [
        "# MAKE SURE THAT YOU HAVE THE RIGHT FORMAT\n",
        "assert prediction.ndim == 1\n",
        "assert prediction.shape[0] == 2000\n",
        "\n",
        "# AND SAVE EXACTLY AS SHOWN BELOW\n",
        "np.save('prediction.npy', prediction)"
      ],
      "execution_count": 21,
      "outputs": []
    }
  ]
}